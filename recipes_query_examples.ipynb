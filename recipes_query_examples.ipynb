{
 "cells": [
  {
   "cell_type": "code",
   "execution_count": 2,
   "metadata": {
    "collapsed": true
   },
   "outputs": [],
   "source": [
    "import pymysql\n",
    "\n",
    "class ConnectionHelper:\n",
    "    def __init__(self, connection):\n",
    "        self.connection = connection\n",
    "    \n",
    "    def run(self, query, args=None):\n",
    "        with self.connection.cursor() as cursor:\n",
    "            print('Executando query:')\n",
    "            print(cursor.mogrify(query, args))  # O que este comando faz?\n",
    "            cursor.execute(query, args)\n",
    "            for result in cursor.fetchall():\n",
    "                print(result)\n",
    "\n",
    "connection_options = {\n",
    "    'host': 'localhost',\n",
    "    'user': 'root',\n",
    "    'password': '1234',\n",
    "    'database': 'my_chef',    \n",
    "}\n",
    "connection = pymysql.connect(**connection_options)\n",
    "\n",
    "db = ConnectionHelper(connection)"
   ]
  },
  {
   "cell_type": "code",
   "execution_count": 7,
   "metadata": {},
   "outputs": [
    {
     "name": "stdout",
     "output_type": "stream",
     "text": [
      "Executando query:\n",
      "select * from Ingredient\n",
      "(1, 'Paprika', 5)\n",
      "(47, 'Batata', None)\n",
      "(48, 'Beterraba', None)\n",
      "(49, 'Pudim', None)\n",
      "(50, 'Arroz', None)\n",
      "(51, 'Macarrao', None)\n",
      "(52, 'Feijao', None)\n"
     ]
    }
   ],
   "source": [
    "# db.run('''\n",
    "#     insert into \n",
    "#         Ingredient (_name)\n",
    "#     values\n",
    "#         (\"Batata\"),\n",
    "#         (\"Beterraba\"),\n",
    "#         (\"Pudim\"),\n",
    "#         (\"Arroz\"),\n",
    "#         (\"Macarrao\"),\n",
    "#         (\"Feijao\")\n",
    "# ''')\n",
    "\n",
    "db.run('select * from Ingredient')"
   ]
  },
  {
   "cell_type": "code",
   "execution_count": 10,
   "metadata": {},
   "outputs": [
    {
     "name": "stdout",
     "output_type": "stream",
     "text": [
      "Executando query:\n",
      "\n",
      "    insert into \n",
      "        Recipe (_name, description, difficulty)\n",
      "    values\n",
      "        (\"Pudim de Arroz\", \"a\", 2),\n",
      "        (\"Pudim de Beterraba\", \"a\", 2),\n",
      "        (\"Pudim de Feijao\", \"a\", 2),\n",
      "        (\"Pudim de Macarrao\", \"a\", 2),\n",
      "        (\"Pudim de Batata\", \"a\", 2),\n",
      "        (\"Batata de Macarrao\", \"a\", 2),\n",
      "        (\"Arroz de Beterraba\", \"a\", 2)\n",
      "\n"
     ]
    }
   ],
   "source": [
    "db.run('''\n",
    "    insert into \n",
    "        Recipe (_name, description, difficulty)\n",
    "    values\n",
    "        (\"Pudim de Arroz\", \"a\", 2),\n",
    "        (\"Pudim de Beterraba\", \"a\", 2),\n",
    "        (\"Pudim de Feijao\", \"a\", 2),\n",
    "        (\"Pudim de Macarrao\", \"a\", 2),\n",
    "        (\"Pudim de Batata\", \"a\", 2),\n",
    "        (\"Batata de Macarrao\", \"a\", 2),\n",
    "        (\"Arroz de Beterraba\", \"a\", 2)\n",
    "''')"
   ]
  },
  {
   "cell_type": "code",
   "execution_count": 12,
   "metadata": {},
   "outputs": [
    {
     "name": "stdout",
     "output_type": "stream",
     "text": [
      "Executando query:\n",
      "select * from Recipe\n",
      "(1, 'Pudim de Arroz', 'a', 2, None)\n",
      "(2, 'Pudim de Beterraba', 'a', 2, None)\n",
      "(3, 'Pudim de Feijao', 'a', 2, None)\n",
      "(4, 'Pudim de Macarrao', 'a', 2, None)\n",
      "(5, 'Pudim de Batata', 'a', 2, None)\n",
      "(6, 'Batata de Macarrao', 'a', 2, None)\n",
      "(7, 'Arroz de Beterraba', 'a', 2, None)\n",
      "Executando query:\n",
      "select * from Ingredient\n",
      "(1, 'Paprika', 5)\n",
      "(47, 'Batata', None)\n",
      "(48, 'Beterraba', None)\n",
      "(49, 'Pudim', None)\n",
      "(50, 'Arroz', None)\n",
      "(51, 'Macarrao', None)\n",
      "(52, 'Feijao', None)\n"
     ]
    }
   ],
   "source": [
    "db.run('select * from Recipe')\n",
    "db.run('select * from Ingredient')"
   ]
  },
  {
   "cell_type": "code",
   "execution_count": 13,
   "metadata": {},
   "outputs": [
    {
     "name": "stdout",
     "output_type": "stream",
     "text": [
      "Executando query:\n",
      "\n",
      "    insert into\n",
      "        Recipe_Ingredient (id_recipe, id_ingredient)\n",
      "    values\n",
      "        (1, 49),\n",
      "        (1, 50),\n",
      "        (2, 49),\n",
      "        (2, 48),\n",
      "        (3, 49),\n",
      "        (3, 52),\n",
      "        (4, 49),\n",
      "        (4, 51),\n",
      "        (5, 49),\n",
      "        (5, 47),\n",
      "        (6, 47),\n",
      "        (6, 51),\n",
      "        (7, 50),\n",
      "        (7, 48)\n",
      "\n"
     ]
    }
   ],
   "source": [
    "db.run('''\n",
    "    insert into\n",
    "        Recipe_Ingredient (id_recipe, id_ingredient)\n",
    "    values\n",
    "        (1, 49),\n",
    "        (1, 50),\n",
    "        (2, 49),\n",
    "        (2, 48),\n",
    "        (3, 49),\n",
    "        (3, 52),\n",
    "        (4, 49),\n",
    "        (4, 51),\n",
    "        (5, 49),\n",
    "        (5, 47),\n",
    "        (6, 47),\n",
    "        (6, 51),\n",
    "        (7, 50),\n",
    "        (7, 48)\n",
    "''')"
   ]
  },
  {
   "cell_type": "code",
   "execution_count": 21,
   "metadata": {},
   "outputs": [
    {
     "name": "stdout",
     "output_type": "stream",
     "text": [
      "Executando query:\n",
      "\n",
      "    select\n",
      "        count(Ingredient.id) as ingredient_count,\n",
      "        Ingredient._name as ingredient_name\n",
      "    from\n",
      "        Ingredient\n",
      "    inner join Recipe_Ingredient\n",
      "        on Ingredient.id = Recipe_Ingredient.id_ingredient\n",
      "    inner join Recipe\n",
      "        on Recipe.id = Recipe_Ingredient.id_recipe\n",
      "    group by\n",
      "        Recipe_Ingredient.id_ingredient\n",
      "    order by\n",
      "        ingredient_count\n",
      "\n",
      "(1, 'Feijao')\n",
      "(2, 'Arroz')\n",
      "(2, 'Batata')\n",
      "(2, 'Beterraba')\n",
      "(2, 'Macarrao')\n",
      "(5, 'Pudim')\n"
     ]
    }
   ],
   "source": [
    "# Nada a ver, conta quantas receitas tem cada ingrediente\n",
    "db.run('''\n",
    "    select\n",
    "        count(Ingredient.id) as ingredient_count,\n",
    "        Ingredient._name as ingredient_name\n",
    "    from\n",
    "        Ingredient\n",
    "    inner join Recipe_Ingredient\n",
    "        on Ingredient.id = Recipe_Ingredient.id_ingredient\n",
    "    inner join Recipe\n",
    "        on Recipe.id = Recipe_Ingredient.id_recipe\n",
    "    group by\n",
    "        Recipe_Ingredient.id_ingredient\n",
    "    order by\n",
    "        ingredient_count\n",
    "''')"
   ]
  },
  {
   "cell_type": "code",
   "execution_count": 26,
   "metadata": {},
   "outputs": [
    {
     "name": "stdout",
     "output_type": "stream",
     "text": [
      "Executando query:\n",
      "\n",
      "    insert into Pantry (_name) values (\"ABuieh\")\n",
      "\n"
     ]
    }
   ],
   "source": [
    "db.run('''\n",
    "    insert into Pantry (_name) values (\"ABuieh\")\n",
    "''')"
   ]
  },
  {
   "cell_type": "code",
   "execution_count": 28,
   "metadata": {},
   "outputs": [
    {
     "name": "stdout",
     "output_type": "stream",
     "text": [
      "Executando query:\n",
      "select * from Pantry\n",
      "(1, 'Minha Dispensa')\n",
      "(2, 'Minha Dispensa')\n",
      "(3, 'Minha Dispensa')\n",
      "(4, 'Minha Dispensa')\n",
      "(5, 'Minha Dispensa')\n",
      "(6, 'Minha Dispensa')\n",
      "(7, 'Minha Dispensa')\n",
      "(8, 'Minha Dispensa')\n",
      "(9, 'Minha Dispensa')\n",
      "(10, 'Minha Dispensa')\n",
      "(11, 'Minha Dispensa')\n",
      "(12, 'Minha Dispensa')\n",
      "(13, 'Minha Dispensa')\n",
      "(14, 'Minha Dispensa')\n",
      "(15, 'Minha Dispensa')\n",
      "(16, 'Minha Dispensa')\n",
      "(17, 'Minha Dispensa')\n",
      "(18, 'Minha Dispensa')\n",
      "(19, 'Minha Dispensa')\n",
      "(20, 'Minha Dispensa')\n",
      "(21, 'Minha Dispensa')\n",
      "(22, 'Minha Dispensa')\n",
      "(23, 'Minha Dispensa')\n",
      "(24, 'Minha Dispensa')\n",
      "(25, 'Minha Dispensa')\n",
      "(26, 'Minha Dispensa')\n",
      "(27, 'Minha Dispensa')\n",
      "(28, 'Minha Dispensa')\n",
      "(29, 'Minha Dispensa')\n",
      "(30, 'Minha Dispensa')\n",
      "(31, 'Minha Dispensa')\n",
      "(32, 'Minha Dispensa')\n",
      "(33, 'Minha Dispensa')\n",
      "(34, 'Minha Dispensa')\n",
      "(35, 'Minha Dispensa')\n",
      "(36, 'Minha Dispensa')\n",
      "(37, 'Minha Dispensa')\n",
      "(38, 'Minha Dispensa')\n",
      "(39, 'Minha Dispensa')\n",
      "(40, 'Minha Dispensa')\n",
      "(41, 'Minha Dispensa')\n",
      "(42, 'Minha Dispensa')\n",
      "(43, 'Minha Dispensa')\n",
      "(44, 'Minha Dispensa')\n",
      "(45, 'Minha Dispensa')\n",
      "(46, 'Minha Dispensa')\n",
      "(47, 'Minha Dispensa')\n",
      "(48, 'Minha Dispensa')\n",
      "(49, 'Minha Dispensa')\n",
      "(50, 'Minha Dispensa')\n",
      "(51, 'Minha Dispensa')\n",
      "(52, 'Minha Dispensa')\n",
      "(53, 'Minha Dispensa')\n",
      "(54, 'Minha Dispensa')\n",
      "(55, 'Minha Dispensa')\n",
      "(56, 'Minha Dispensa')\n",
      "(57, 'Minha Dispensa')\n",
      "(58, 'Minha Dispensa')\n",
      "(59, 'Minha Dispensa')\n",
      "(60, 'Minha Dispensa')\n",
      "(61, 'Minha Dispensa')\n",
      "(62, 'Minha Dispensa')\n",
      "(63, 'Minha Dispensa')\n",
      "(64, 'Minha Dispensa')\n",
      "(65, 'Minha Dispensa')\n",
      "(66, 'Minha Dispensa')\n",
      "(67, 'Minha Dispensa')\n",
      "(68, 'Minha Dispensa')\n",
      "(69, 'Minha Dispensa')\n",
      "(70, 'Minha Dispensa')\n",
      "(71, 'Minha Dispensa')\n",
      "(72, 'Minha Dispensa')\n",
      "(73, 'Minha Dispensa')\n",
      "(74, 'Minha Dispensa')\n",
      "(75, 'Minha Dispensa')\n",
      "(76, 'Minha Dispensa')\n",
      "(77, 'Minha Dispensa')\n",
      "(78, 'Minha Dispensa')\n",
      "(79, 'Minha Dispensa')\n",
      "(80, 'Minha Dispensa')\n",
      "(81, 'Minha Dispensa')\n",
      "(82, 'Minha Dispensa')\n",
      "(83, 'Minha Dispensa')\n",
      "(84, 'Minha Dispensa')\n",
      "(85, 'Minha Dispensa')\n",
      "(86, 'Minha Dispensa')\n",
      "(87, 'Minha Dispensa')\n",
      "(88, 'Minha Dispensa')\n",
      "(89, 'Minha Dispensa')\n",
      "(90, 'Minha Dispensa')\n",
      "(91, 'Minha Dispensa')\n",
      "(92, 'Minha Dispensa')\n",
      "(93, 'Minha Dispensa')\n",
      "(94, 'Minha Dispensa')\n",
      "(95, 'ABuieh')\n",
      "(96, 'ABuieh')\n",
      "Executando query:\n",
      "select * from Ingredient\n",
      "(1, 'Paprika', 5)\n",
      "(47, 'Batata', None)\n",
      "(48, 'Beterraba', None)\n",
      "(49, 'Pudim', None)\n",
      "(50, 'Arroz', None)\n",
      "(51, 'Macarrao', None)\n",
      "(52, 'Feijao', None)\n"
     ]
    }
   ],
   "source": [
    "db.run('select * from Pantry')\n",
    "db.run('select * from Ingredient')"
   ]
  },
  {
   "cell_type": "code",
   "execution_count": 29,
   "metadata": {},
   "outputs": [
    {
     "name": "stdout",
     "output_type": "stream",
     "text": [
      "Executando query:\n",
      "\n",
      "    insert into\n",
      "        Ingredient_Pantry (id_ingredient, id_pantry)\n",
      "    values\n",
      "        (1, 96),\n",
      "        (52, 96),\n",
      "        (49, 96)\n",
      "\n"
     ]
    }
   ],
   "source": [
    "db.run('''\n",
    "    insert into\n",
    "        Ingredient_Pantry (id_ingredient, id_pantry)\n",
    "    values\n",
    "        (1, 96),\n",
    "        (52, 96),\n",
    "        (49, 96)\n",
    "''')"
   ]
  },
  {
   "cell_type": "code",
   "execution_count": 30,
   "metadata": {},
   "outputs": [
    {
     "name": "stdout",
     "output_type": "stream",
     "text": [
      "Executando query:\n",
      "select * from Ingredient_Pantry\n",
      "(1, 96)\n",
      "(49, 96)\n",
      "(52, 96)\n"
     ]
    }
   ],
   "source": [
    "db.run('select * from Ingredient_Pantry')"
   ]
  },
  {
   "cell_type": "code",
   "execution_count": 35,
   "metadata": {},
   "outputs": [
    {
     "name": "stdout",
     "output_type": "stream",
     "text": [
      "Executando query:\n",
      "\n",
      "    select\n",
      "        count(Recipe._name) as recipe_name,\n",
      "        Ingredient._name as ingredient_name\n",
      "    from\n",
      "        Recipe\n",
      "    inner join Recipe_Ingredient\n",
      "        on Recipe.id = Recipe_Ingredient.id_recipe\n",
      "    inner join Ingredient\n",
      "        on Ingredient.id = Recipe_Ingredient.id_ingredient\n",
      "    inner join Ingredient_Pantry\n",
      "        on Ingredient.id = Ingredient_Pantry.id_ingredient\n",
      "    inner join Pantry\n",
      "        on Ingredient_Pantry.id_pantry = Pantry.id\n",
      "    group by\n",
      "        Recipe_Ingredient.id_ingredient\n",
      "    \n",
      "(5, 'Pudim')\n",
      "(1, 'Feijao')\n"
     ]
    }
   ],
   "source": [
    "db.run('''\n",
    "    select\n",
    "        count(Recipe._name) as recipe_name,\n",
    "        Ingredient._name as ingredient_name\n",
    "    from\n",
    "        Recipe\n",
    "    inner join Recipe_Ingredient\n",
    "        on Recipe.id = Recipe_Ingredient.id_recipe\n",
    "    inner join Ingredient\n",
    "        on Ingredient.id = Recipe_Ingredient.id_ingredient\n",
    "    inner join Ingredient_Pantry\n",
    "        on Ingredient.id = Ingredient_Pantry.id_ingredient\n",
    "    inner join Pantry\n",
    "        on Ingredient_Pantry.id_pantry = Pantry.id\n",
    "    group by\n",
    "        Recipe_Ingredient.id_ingredient\n",
    "    ''')"
   ]
  },
  {
   "cell_type": "code",
   "execution_count": 38,
   "metadata": {},
   "outputs": [
    {
     "name": "stdout",
     "output_type": "stream",
     "text": [
      "Executando query:\n",
      "\n",
      "    insert into\n",
      "        Ingredient_Pantry (id_ingredient, id_pantry)\n",
      "    values\n",
      "        (50, 96),\n",
      "        (48, 96)\n",
      "\n"
     ]
    }
   ],
   "source": [
    "db.run('''\n",
    "    insert into\n",
    "        Ingredient_Pantry (id_ingredient, id_pantry)\n",
    "    values\n",
    "        (50, 96),\n",
    "        (48, 96)\n",
    "''')"
   ]
  },
  {
   "cell_type": "code",
   "execution_count": 55,
   "metadata": {},
   "outputs": [
    {
     "name": "stdout",
     "output_type": "stream",
     "text": [
      "Executando query:\n",
      "\n",
      "    select\n",
      "        Recipe._name as recipe_name,\n",
      "        Ingredient._name as ingredient_name\n",
      "    from\n",
      "        Recipe\n",
      "    inner join Recipe_Ingredient\n",
      "        on Recipe.id = Recipe_Ingredient.id_recipe\n",
      "    inner join Ingredient\n",
      "        on Ingredient.id = Recipe_Ingredient.id_ingredient\n",
      "    inner join Ingredient_Pantry\n",
      "        on Ingredient.id = Ingredient_Pantry.id_ingredient\n",
      "    inner join Pantry\n",
      "        on Ingredient_Pantry.id_pantry = Pantry.id\n",
      "\n",
      "('Pudim de Beterraba', 'Beterraba')\n",
      "('Arroz de Beterraba', 'Beterraba')\n",
      "('Pudim de Arroz', 'Pudim')\n",
      "('Pudim de Beterraba', 'Pudim')\n",
      "('Pudim de Feijao', 'Pudim')\n",
      "('Pudim de Macarrao', 'Pudim')\n",
      "('Pudim de Batata', 'Pudim')\n",
      "('Pudim de Arroz', 'Arroz')\n",
      "('Arroz de Beterraba', 'Arroz')\n",
      "('Pudim de Feijao', 'Feijao')\n",
      "Executando query:\n",
      "\n",
      "    select\n",
      "        Ingredient._name,\n",
      "        Recipe._name\n",
      "    from\n",
      "        Ingredient\n",
      "    inner join Recipe_Ingredient\n",
      "        on Recipe_Ingredient.id_ingredient = Ingredient.id\n",
      "    inner join Recipe\n",
      "        on Recipe_Ingredient.id_recipe = Recipe.id\n",
      "\n",
      "('Arroz', 'Pudim de Arroz')\n",
      "('Arroz', 'Arroz de Beterraba')\n",
      "('Batata', 'Pudim de Batata')\n",
      "('Batata', 'Batata de Macarrao')\n",
      "('Beterraba', 'Pudim de Beterraba')\n",
      "('Beterraba', 'Arroz de Beterraba')\n",
      "('Feijao', 'Pudim de Feijao')\n",
      "('Macarrao', 'Pudim de Macarrao')\n",
      "('Macarrao', 'Batata de Macarrao')\n",
      "('Pudim', 'Pudim de Arroz')\n",
      "('Pudim', 'Pudim de Beterraba')\n",
      "('Pudim', 'Pudim de Feijao')\n",
      "('Pudim', 'Pudim de Macarrao')\n",
      "('Pudim', 'Pudim de Batata')\n"
     ]
    }
   ],
   "source": [
    "db.run('''\n",
    "    select\n",
    "        Recipe._name as recipe_name,\n",
    "        Ingredient._name as ingredient_name\n",
    "    from\n",
    "        Recipe\n",
    "    inner join Recipe_Ingredient\n",
    "        on Recipe.id = Recipe_Ingredient.id_recipe\n",
    "    inner join Ingredient\n",
    "        on Ingredient.id = Recipe_Ingredient.id_ingredient\n",
    "    inner join Ingredient_Pantry\n",
    "        on Ingredient.id = Ingredient_Pantry.id_ingredient\n",
    "    inner join Pantry\n",
    "        on Ingredient_Pantry.id_pantry = Pantry.id\n",
    "''')\n",
    "\n",
    "db.run('''\n",
    "    select\n",
    "        Ingredient._name,\n",
    "        Recipe._name\n",
    "    from\n",
    "        Ingredient\n",
    "    inner join Recipe_Ingredient\n",
    "        on Recipe_Ingredient.id_ingredient = Ingredient.id\n",
    "    inner join Recipe\n",
    "        on Recipe_Ingredient.id_recipe = Recipe.id\n",
    "''')"
   ]
  },
  {
   "cell_type": "code",
   "execution_count": null,
   "metadata": {
    "collapsed": true
   },
   "outputs": [],
   "source": []
  }
 ],
 "metadata": {
  "kernelspec": {
   "display_name": "Python 3",
   "language": "python",
   "name": "python3"
  },
  "language_info": {
   "codemirror_mode": {
    "name": "ipython",
    "version": 3
   },
   "file_extension": ".py",
   "mimetype": "text/x-python",
   "name": "python",
   "nbconvert_exporter": "python",
   "pygments_lexer": "ipython3",
   "version": "3.5.3"
  }
 },
 "nbformat": 4,
 "nbformat_minor": 2
}
